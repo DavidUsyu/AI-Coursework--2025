{
 "cells": [
  {
   "cell_type": "code",
   "execution_count": 1,
   "id": "9a38245c",
   "metadata": {},
   "outputs": [
    {
     "name": "stdout",
     "output_type": "stream",
     "text": [
      "There are 432000 seconds in 5\n"
     ]
    }
   ],
   "source": [
    "days = input(\"Put the number of days: \")\n",
    "\n",
    "# Convert the inputted value to an integer\n",
    "try:\n",
    "    days = int(days)\n",
    "    # Calculate the number of seconds in the given days\n",
    "    seconds = days * 24 * 60 * 60\n",
    "    # Print the output\n",
    "    print(f\"There are {seconds} seconds in {days}\")\n",
    "except ValueError:\n",
    "    print(\"Please enter a valid value.\") \n"
   ]
  },
  {
   "cell_type": "code",
   "execution_count": 2,
   "id": "4acdb6eb",
   "metadata": {},
   "outputs": [],
   "source": [
    "import math;\n",
    "\n",
    "def calculate_sphere_volume():\n",
    "    #Calculate the volume of the sphere based on input for the radius\n",
    "    radius = input(\"Please input the radius\")\n",
    "def main():\n",
    "    try:\n",
    "        #Check if the radius is a negative number\n",
    "        if radius< 0:\n",
    "            print(\"The radius cannot be a negative value\")\n",
    "        else:\n",
    "            #Calculate the volume of the sphere\n",
    "            volume = (4/3) * math.pi * (radius^3)\n",
    "        print(f\"The volume of the sphere is: {volume}\")\n",
    "\n",
    "    except ValueError:\n",
    "        #When users input is not valid\n",
    "        print(\"Invalid input. Please enter a number value for the radius\")\n",
    "\n",
    "calculate_sphere_volume()\n",
    "     "
   ]
  },
  {
   "cell_type": "code",
   "execution_count": 3,
   "id": "f12c8a31",
   "metadata": {},
   "outputs": [
    {
     "name": "stdout",
     "output_type": "stream",
     "text": [
      "\n",
      "Area of the square: 900.00\n",
      "Perimeter of the square: 120.00\n"
     ]
    }
   ],
   "source": [
    "def calculate_area(side):\n",
    "    #calculates area of a square\n",
    "    return side **2\n",
    "\n",
    "def calculate_perimeter(side):\n",
    "    #calculates the perimeter \n",
    "    return 4 * side\n",
    "\n",
    "def main():\n",
    "    #main function to get user's input and show the results\n",
    "    try:\n",
    "        #prompt user to input the side length of the square\n",
    "        side_length_str = input(\"Please enter the side length of the square:\")\n",
    "        # Convert the input to a floating point number\n",
    "        side_length = float(side_length_str)\n",
    "\n",
    "        #Check if the input is a negative number\n",
    "        if side_length < 0:\n",
    "            print(\"The side length cannot be a negative number\")\n",
    "        else:\n",
    "            # Call functions to calculate the area and perimeter\n",
    "            area= calculate_area(side_length)\n",
    "            perimeter = calculate_perimeter(side_length)\n",
    "\n",
    "            #Show the results to the user\n",
    "            print(f\"\\nArea of the square: {area:.2f}\")\n",
    "            print(f\"Perimeter of the square: {perimeter:.2f}\")\n",
    "\n",
    "    except ValueError:\n",
    "        #If the user's input is not a valid number.\n",
    "        print(\"Invalid input. Please input a numerical value for the side length\")\n",
    "\n",
    "# Run the main function\n",
    "if __name__ == \"__main__\":\n",
    "    main()\n"
   ]
  },
  {
   "cell_type": "code",
   "execution_count": 4,
   "id": "42e35280",
   "metadata": {},
   "outputs": [
    {
     "name": "stdout",
     "output_type": "stream",
     "text": [
      "The character 'h' is Lowercase.\n"
     ]
    }
   ],
   "source": [
    "def check_character_case(char):\n",
    "    #Determines if a character is uppercase or lowercase\n",
    "\n",
    "    if 'a' <= char <= 'z':\n",
    "        return \"Lowercase\"\n",
    "    elif 'A' <= char <= 'Z':\n",
    "        return \"Uppercase\"\n",
    "    else:\n",
    "        return \"Not an alphabet letter\"\n",
    "    # Main part of the program to get user input and display the result\n",
    "if __name__ == \"__main__\":\n",
    "    user_input = input(\"Please enter a single letter: \")\n",
    "\n",
    "    # Check if the user entered exactly one character\n",
    "    if len(user_input) == 1:\n",
    "        result = check_character_case(user_input)\n",
    "        print(f\"The character '{user_input}' is {result}.\")\n",
    "    else:\n",
    "        print(\"Invalid input. Please enter only one letter.\")\n"
   ]
  },
  {
   "cell_type": "code",
   "execution_count": 5,
   "id": "7ae78d91",
   "metadata": {},
   "outputs": [
    {
     "name": "stdout",
     "output_type": "stream",
     "text": [
      "0.125\n",
      "0.29166666666666663\n",
      "0.5416666666666666\n"
     ]
    }
   ],
   "source": [
    "#Begin\n",
    "x = 0\n",
    "y = 20\n",
    "\n",
    "while True:\n",
    "    #Minus 4 from y\n",
    "    y -=4\n",
    "\n",
    "    if y != 0:\n",
    "        x += 2/y\n",
    "    else:\n",
    "        print(\"Error: Division by zero. Exiting loop\")\n",
    "        break\n",
    "\n",
    "    if y < 6:\n",
    "        break\n",
    "\n",
    "    print(x)\n",
    "        "
   ]
  },
  {
   "cell_type": "code",
   "execution_count": 6,
   "id": "80a482f0",
   "metadata": {},
   "outputs": [
    {
     "name": "stdout",
     "output_type": "stream",
     "text": [
      "Please enter 5 number values.\n"
     ]
    },
    {
     "name": "stdout",
     "output_type": "stream",
     "text": [
      "Value #1 entered successfully.\n",
      "\n",
      "The values inputted are: [2.0]\n",
      "The average of these numbers are: 2.00\n"
     ]
    }
   ],
   "source": [
    "def get_numbers():\n",
    "    #Enables the user to input five numerical values and stores them in a list and the computes the average of those values\n",
    "    numbers = []\n",
    "    print(\"Please enter 5 number values.\")\n",
    "    for i in range(5):\n",
    "        while True:\n",
    "            try:\n",
    "                #prompt the user for a number\n",
    "                value_str = input(f\"Enter value #{i + 1}:\")\n",
    "                #Convert the input to a float\n",
    "                value = float(value_str)\n",
    "                #Adding of the number to the list\n",
    "                numbers.append(value)\n",
    "                # Provide feedback to the user that the value was accepted\n",
    "                print(f\"Value #{i + 1} entered successfully.\")\n",
    "                break\n",
    "            except ValueError:\n",
    "                print(\"Invalid number.Please enter a valid number\")\n",
    "        return numbers\n",
    "def calculate_average(data):\n",
    "    #Calculates the average of a list of numbers.\n",
    "    if not data:\n",
    "        return 0\n",
    "    \n",
    "    total_sum = sum(data)\n",
    "    count = len(data)\n",
    "    average = total_sum / count\n",
    "    return average\n",
    "\n",
    "# Main part of the program\n",
    "if __name__ == \"__main__\":\n",
    "    user_values = get_numbers()\n",
    "\n",
    "#Compute the average of the numbers\n",
    "average_value = calculate_average(user_values)\n",
    "\n",
    "#Show final result\n",
    "print(f\"\\nThe values inputted are: {user_values}\")\n",
    "print(f\"The average of these numbers are: {average_value:.2f}\")"
   ]
  },
  {
   "cell_type": "code",
   "execution_count": null,
   "id": "8e40693c",
   "metadata": {},
   "outputs": [],
   "source": []
  }
 ],
 "metadata": {
  "kernelspec": {
   "display_name": ".venv",
   "language": "python",
   "name": "python3"
  },
  "language_info": {
   "codemirror_mode": {
    "name": "ipython",
    "version": 3
   },
   "file_extension": ".py",
   "mimetype": "text/x-python",
   "name": "python",
   "nbconvert_exporter": "python",
   "pygments_lexer": "ipython3",
   "version": "3.13.5"
  }
 },
 "nbformat": 4,
 "nbformat_minor": 5
}
