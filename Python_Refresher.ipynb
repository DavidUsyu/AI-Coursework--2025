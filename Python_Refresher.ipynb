{
 "cells": [
  {
   "cell_type": "code",
   "execution_count": null,
   "id": "9a38245c",
   "metadata": {},
   "outputs": [],
   "source": [
    "days = input(\"Put the number of days: \")\n",
    "\n",
    "# Convert the inputted value to an integer\n",
    "try:\n",
    "    days = int(days)\n",
    "    # Calculate the number of seconds in the given days\n",
    "    seconds = days * 24 * 60 * 60\n",
    "    # Print the output\n",
    "    print(f\"There are {seconds} seconds in {days}\")\n",
    "except ValueError:\n",
    "    print(\"Please enter a valid value.\") \n"
   ]
  }
 ],
 "metadata": {
  "kernelspec": {
   "display_name": "Python 3",
   "language": "python",
   "name": "python3"
  },
  "language_info": {
   "name": "python",
   "version": "3.13.5"
  }
 },
 "nbformat": 4,
 "nbformat_minor": 5
}
