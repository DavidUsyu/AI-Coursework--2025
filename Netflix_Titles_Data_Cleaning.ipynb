{
  "nbformat": 4,
  "nbformat_minor": 0,
  "metadata": {
    "colab": {
      "provenance": [],
      "authorship_tag": "ABX9TyNDfaRsj1NAByKDlDMFX4wg",
      "include_colab_link": true
    },
    "kernelspec": {
      "name": "python3",
      "display_name": "Python 3"
    },
    "language_info": {
      "name": "python"
    }
  },
  "cells": [
    {
      "cell_type": "markdown",
      "metadata": {
        "id": "view-in-github",
        "colab_type": "text"
      },
      "source": [
        "<a href=\"https://colab.research.google.com/github/DavidUsyu/AI-Coursework--2025/blob/master/Exercise4.ipynb\" target=\"_parent\"><img src=\"https://colab.research.google.com/assets/colab-badge.svg\" alt=\"Open In Colab\"/></a>"
      ]
    },
    {
      "cell_type": "code",
      "execution_count": 1,
      "metadata": {
        "id": "CLhdxSK1tgM6"
      },
      "outputs": [],
      "source": [
        "import pandas as pd\n",
        "\n",
        "df = pd.read_csv(\"netflix_titles.csv\")"
      ]
    },
    {
      "cell_type": "code",
      "source": [
        "#1:\n",
        "rows, columns = df.shape\n",
        "print(\"The dataset contains\", rows, \"rows and\", columns, \"columns.\\n\")"
      ],
      "metadata": {
        "id": "mvEJysAot0ZF",
        "colab": {
          "base_uri": "https://localhost:8080/"
        },
        "outputId": "7d54488b-a385-41a2-8dff-c83e3b3c2e51"
      },
      "execution_count": 2,
      "outputs": [
        {
          "output_type": "stream",
          "name": "stdout",
          "text": [
            "The dataset contains 8807 rows and 12 columns.\n",
            "\n"
          ]
        }
      ]
    },
    {
      "cell_type": "code",
      "source": [
        "#2:\n",
        "print(\"Datatypes contained in the dataset:\")\n",
        "print(df.dtypes, \"\\n\")"
      ],
      "metadata": {
        "id": "d0Shj-Vgt84p",
        "colab": {
          "base_uri": "https://localhost:8080/"
        },
        "outputId": "e0146c0e-ea70-4bb8-8b98-7a28eef5f71c"
      },
      "execution_count": 3,
      "outputs": [
        {
          "output_type": "stream",
          "name": "stdout",
          "text": [
            "Datatypes contained in the dataset:\n",
            "show_id         object\n",
            "type            object\n",
            "title           object\n",
            "director        object\n",
            "cast            object\n",
            "country         object\n",
            "date_added      object\n",
            "release_year     int64\n",
            "rating          object\n",
            "duration        object\n",
            "listed_in       object\n",
            "description     object\n",
            "dtype: object \n",
            "\n"
          ]
        }
      ]
    },
    {
      "cell_type": "code",
      "source": [
        "#3:\n",
        "missing = df.isnull().sum()\n",
        "total_missing = missing.sum()\n",
        "if total_missing == 0:\n",
        "    print(\"The dataset is complete (no missing values).\\n\")\n",
        "else:\n",
        "    print(\"The dataset is NOT complete. There are missing values in some columns.\\n\")\n",
        "    print(missing[missing > 0], \"\\n\")"
      ],
      "metadata": {
        "id": "iRNz497duBG2",
        "colab": {
          "base_uri": "https://localhost:8080/"
        },
        "outputId": "1d4c123d-6629-4605-efeb-f9955f2c8a5e"
      },
      "execution_count": 4,
      "outputs": [
        {
          "output_type": "stream",
          "name": "stdout",
          "text": [
            "The dataset is NOT complete. There are missing values in some columns.\n",
            "\n",
            "director      2634\n",
            "cast           825\n",
            "country        831\n",
            "date_added      10\n",
            "rating           4\n",
            "duration         3\n",
            "dtype: int64 \n",
            "\n"
          ]
        }
      ]
    },
    {
      "cell_type": "code",
      "source": [
        "#4:\n",
        "last_20 = df.tail(20)\n",
        "num_movies = (last_20['type'] == 'Movie').sum()\n",
        "num_tvshows = (last_20['type'] == 'TV Show').sum()\n",
        "\n",
        "print(\"Among the last 20 rows:\")\n",
        "print(\"Movies:\", num_movies)\n",
        "print(\"TV Shows:\", num_tvshows)"
      ],
      "metadata": {
        "id": "OMykD6_UuFkM",
        "colab": {
          "base_uri": "https://localhost:8080/"
        },
        "outputId": "a00924c2-9be7-4d7a-af9d-7a930b49b967"
      },
      "execution_count": 5,
      "outputs": [
        {
          "output_type": "stream",
          "name": "stdout",
          "text": [
            "Among the last 20 rows:\n",
            "Movies: 15\n",
            "TV Shows: 5\n"
          ]
        }
      ]
    },
    {
      "cell_type": "code",
      "source": [
        "df = pd.read_csv(\"netflix_titles.csv\")"
      ],
      "metadata": {
        "id": "5rSE-SpNKgmc"
      },
      "execution_count": 6,
      "outputs": []
    },
    {
      "cell_type": "code",
      "source": [
        "#1:\n",
        "sa_movies = df[(df['country'] == 'South Africa') & (df['type'] == 'Movie')]\n",
        "num_sa_movies = len(sa_movies)\n",
        "print(\"Number of Movies from South Africa:\", num_sa_movies, \"\\n\")"
      ],
      "metadata": {
        "colab": {
          "base_uri": "https://localhost:8080/"
        },
        "id": "mf9X-osFK7dJ",
        "outputId": "0a28c201-c954-4afd-a432-39e9e384d948"
      },
      "execution_count": 7,
      "outputs": [
        {
          "output_type": "stream",
          "name": "stdout",
          "text": [
            "Number of Movies from South Africa: 24 \n",
            "\n"
          ]
        }
      ]
    },
    {
      "cell_type": "code",
      "source": [
        "#2:\n",
        "description_12th = df.loc[11, 'description']\n",
        "print(\"Description of the movie in the 12th row:\\n\", description_12th, \"\\n\")"
      ],
      "metadata": {
        "colab": {
          "base_uri": "https://localhost:8080/"
        },
        "id": "Zh5toU7-LExa",
        "outputId": "193ba28a-a9d7-4368-ec31-379d91567ef7"
      },
      "execution_count": 8,
      "outputs": [
        {
          "output_type": "stream",
          "name": "stdout",
          "text": [
            "Description of the movie in the 12th row:\n",
            " Struggling to earn a living in Bangkok, a man joins an emergency rescue service and realizes he must unravel a citywide conspiracy. \n",
            "\n"
          ]
        }
      ]
    },
    {
      "cell_type": "code",
      "source": [
        "#3:\n",
        "sa_movies_2021 = sa_movies[sa_movies['release_year'] == 2021]\n",
        "print(\"South African Movies released in 2021:\\n\")\n",
        "print(sa_movies_2021[['title', 'release_year']], \"\\n\")\n"
      ],
      "metadata": {
        "colab": {
          "base_uri": "https://localhost:8080/"
        },
        "id": "PkyviKYPLJ_o",
        "outputId": "a884368c-9e63-4fc3-8d44-c768168c53cf"
      },
      "execution_count": 9,
      "outputs": [
        {
          "output_type": "stream",
          "name": "stdout",
          "text": [
            "South African Movies released in 2021:\n",
            "\n",
            "                             title  release_year\n",
            "293                           Slay          2021\n",
            "764   Trippin' with the Kandasamys          2021\n",
            "881                 I Am All Girls          2021\n",
            "1172       Loyiso Gola: Unlearning          2021 \n",
            "\n"
          ]
        }
      ]
    },
    {
      "cell_type": "code",
      "source": [
        "#4:\n",
        "movies_2021 = df[(df['type'] == 'Movie') & (df['release_year'] == 2021)]\n",
        "print(\"Entire cast of all movies released in 2021:\\n\")\n",
        "print(movies_2021[['title', 'cast']])"
      ],
      "metadata": {
        "colab": {
          "base_uri": "https://localhost:8080/"
        },
        "id": "ochez7KXLRu-",
        "outputId": "0bb58446-f617-4a8d-c9cb-e4e218490f67"
      },
      "execution_count": 10,
      "outputs": [
        {
          "output_type": "stream",
          "name": "stdout",
          "text": [
            "Entire cast of all movies released in 2021:\n",
            "\n",
            "                                                  title  \\\n",
            "6                      My Little Pony: A New Generation   \n",
            "9                                          The Starling   \n",
            "12                                         Je Suis Karl   \n",
            "13                     Confessions of an Invisible Girl   \n",
            "18                                            Intrusion   \n",
            "...                                                 ...   \n",
            "1425                        Creating The Queen's Gambit   \n",
            "1431                                        Stuck Apart   \n",
            "1436  Ratones Paranoicos: The Band that Rocked Argen...   \n",
            "1466                       The Minimalists: Less Is Now   \n",
            "1468                          What Happened to Mr. Cha?   \n",
            "\n",
            "                                                   cast  \n",
            "6     Vanessa Hudgens, Kimiko Glenn, James Marsden, ...  \n",
            "9     Melissa McCarthy, Chris O'Dowd, Kevin Kline, T...  \n",
            "12    Luna Wedler, Jannis Niewöhner, Milan Peschel, ...  \n",
            "13    Klara Castanho, Lucca Picon, Júlia Gomes, Marc...  \n",
            "18    Freida Pinto, Logan Marshall-Green, Robert Joh...  \n",
            "...                                                 ...  \n",
            "1425                                                NaN  \n",
            "1431  Engin Günaydın, Haluk Bilginer, Binnur Kaya, Ö...  \n",
            "1436  Juan Sebastián Gutiérrez, Pablo Cano, Pablo Me...  \n",
            "1466                                                NaN  \n",
            "1468           Cha In-pyo, Cho Dal-hwan, Song Jae-ryong  \n",
            "\n",
            "[277 rows x 2 columns]\n"
          ]
        }
      ]
    }
  ]
}
